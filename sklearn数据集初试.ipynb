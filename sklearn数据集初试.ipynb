{
  "nbformat": 4,
  "nbformat_minor": 0,
  "metadata": {
    "colab": {
      "name": "sklearn数据集初试",
      "provenance": [],
      "authorship_tag": "ABX9TyPWwhS35JIp8Bg2wUbiTIOb",
      "include_colab_link": true
    },
    "kernelspec": {
      "name": "python3",
      "display_name": "Python 3"
    }
  },
  "cells": [
    {
      "cell_type": "markdown",
      "metadata": {
        "id": "view-in-github",
        "colab_type": "text"
      },
      "source": [
        "<a href=\"https://colab.research.google.com/github/castle9611/Colab/blob/main/sklearn%E6%95%B0%E6%8D%AE%E9%9B%86%E5%88%9D%E8%AF%95.ipynb\" target=\"_parent\"><img src=\"https://colab.research.google.com/assets/colab-badge.svg\" alt=\"Open In Colab\"/></a>"
      ]
    },
    {
      "cell_type": "code",
      "metadata": {
        "id": "oM9AvoFHSsRq"
      },
      "source": [
        "from sklearn.datasets import load_wine "
      ],
      "execution_count": 1,
      "outputs": []
    },
    {
      "cell_type": "code",
      "metadata": {
        "id": "etejWn4iS58b"
      },
      "source": [
        "import pandas as pd"
      ],
      "execution_count": 2,
      "outputs": []
    },
    {
      "cell_type": "code",
      "metadata": {
        "id": "DagclqB9TSmj"
      },
      "source": [
        "import numpy as np"
      ],
      "execution_count": 3,
      "outputs": []
    },
    {
      "cell_type": "code",
      "metadata": {
        "id": "kVupyYb3UFFA"
      },
      "source": [
        "wines = load_wine()"
      ],
      "execution_count": 4,
      "outputs": []
    },
    {
      "cell_type": "code",
      "metadata": {
        "colab": {
          "base_uri": "https://localhost:8080/"
        },
        "id": "FYhTHcuMURjI",
        "outputId": "807c3bcc-2432-4a44-f604-cbf4cdf0e93e"
      },
      "source": [
        "type(wines)"
      ],
      "execution_count": 5,
      "outputs": [
        {
          "output_type": "execute_result",
          "data": {
            "text/plain": [
              "sklearn.utils.Bunch"
            ]
          },
          "metadata": {
            "tags": []
          },
          "execution_count": 5
        }
      ]
    },
    {
      "cell_type": "code",
      "metadata": {
        "id": "6YoF95TQU4gV"
      },
      "source": [
        "X = wines.data"
      ],
      "execution_count": 6,
      "outputs": []
    },
    {
      "cell_type": "code",
      "metadata": {
        "id": "VaEaVhMdVTLE"
      },
      "source": [
        "y = wines.target"
      ],
      "execution_count": 7,
      "outputs": []
    },
    {
      "cell_type": "code",
      "metadata": {
        "colab": {
          "base_uri": "https://localhost:8080/"
        },
        "id": "zi9zW1CnVWhl",
        "outputId": "2101a1e4-8448-4b65-e815-588317f8c120"
      },
      "source": [
        "wines.feature_names"
      ],
      "execution_count": 8,
      "outputs": [
        {
          "output_type": "execute_result",
          "data": {
            "text/plain": [
              "['alcohol',\n",
              " 'malic_acid',\n",
              " 'ash',\n",
              " 'alcalinity_of_ash',\n",
              " 'magnesium',\n",
              " 'total_phenols',\n",
              " 'flavanoids',\n",
              " 'nonflavanoid_phenols',\n",
              " 'proanthocyanins',\n",
              " 'color_intensity',\n",
              " 'hue',\n",
              " 'od280/od315_of_diluted_wines',\n",
              " 'proline']"
            ]
          },
          "metadata": {
            "tags": []
          },
          "execution_count": 8
        }
      ]
    },
    {
      "cell_type": "code",
      "metadata": {
        "colab": {
          "base_uri": "https://localhost:8080/"
        },
        "id": "nXxzIdKaVZ6f",
        "outputId": "9025e347-b8c1-4bc9-9ece-3542bd99eba2"
      },
      "source": [
        "wines.target_names"
      ],
      "execution_count": 9,
      "outputs": [
        {
          "output_type": "execute_result",
          "data": {
            "text/plain": [
              "array(['class_0', 'class_1', 'class_2'], dtype='<U7')"
            ]
          },
          "metadata": {
            "tags": []
          },
          "execution_count": 9
        }
      ]
    },
    {
      "cell_type": "code",
      "metadata": {
        "id": "yeFvYrN_WiZ5"
      },
      "source": [
        "from sklearn.model_selection import train_test_split\n",
        "X_train,X_test,y_train,y_test = train_test_split(X,y,test_size=0.2,random_state=0)"
      ],
      "execution_count": 10,
      "outputs": []
    },
    {
      "cell_type": "code",
      "metadata": {
        "colab": {
          "base_uri": "https://localhost:8080/"
        },
        "id": "PMQ9ZtYkVjYw",
        "outputId": "f3b9f1a0-57b0-43f4-9650-11c5027d5abc"
      },
      "source": [
        "from sklearn.tree import DecisionTreeClassifier as DT\n",
        "from sklearn import tree\n",
        "clf = DT()\n",
        "clf.fit(X_train,y_train)\n"
      ],
      "execution_count": 11,
      "outputs": [
        {
          "output_type": "execute_result",
          "data": {
            "text/plain": [
              "DecisionTreeClassifier(ccp_alpha=0.0, class_weight=None, criterion='gini',\n",
              "                       max_depth=None, max_features=None, max_leaf_nodes=None,\n",
              "                       min_impurity_decrease=0.0, min_impurity_split=None,\n",
              "                       min_samples_leaf=1, min_samples_split=2,\n",
              "                       min_weight_fraction_leaf=0.0, presort='deprecated',\n",
              "                       random_state=None, splitter='best')"
            ]
          },
          "metadata": {
            "tags": []
          },
          "execution_count": 11
        }
      ]
    },
    {
      "cell_type": "code",
      "metadata": {
        "colab": {
          "base_uri": "https://localhost:8080/"
        },
        "id": "hJbRTK89VpdB",
        "outputId": "7d983b41-ca22-4247-cdf2-01a0282a0108"
      },
      "source": [
        "clf.predict(X_test)"
      ],
      "execution_count": 12,
      "outputs": [
        {
          "output_type": "execute_result",
          "data": {
            "text/plain": [
              "array([0, 2, 1, 0, 1, 1, 0, 2, 1, 1, 2, 2, 0, 1, 2, 1, 0, 0, 1, 0, 0, 0,\n",
              "       0, 1, 1, 1, 1, 1, 1, 2, 0, 0, 1, 0, 0, 0])"
            ]
          },
          "metadata": {
            "tags": []
          },
          "execution_count": 12
        }
      ]
    },
    {
      "cell_type": "code",
      "metadata": {
        "colab": {
          "base_uri": "https://localhost:8080/"
        },
        "id": "HKSCkSvqXFuG",
        "outputId": "4350d3c2-b29e-4134-fdbd-72945873157c"
      },
      "source": [
        "clf.score(X_test,y_test)"
      ],
      "execution_count": 13,
      "outputs": [
        {
          "output_type": "execute_result",
          "data": {
            "text/plain": [
              "0.9722222222222222"
            ]
          },
          "metadata": {
            "tags": []
          },
          "execution_count": 13
        }
      ]
    },
    {
      "cell_type": "code",
      "metadata": {
        "id": "j4QMv_VeYMGF"
      },
      "source": [
        "import graphviz"
      ],
      "execution_count": 14,
      "outputs": []
    },
    {
      "cell_type": "code",
      "metadata": {
        "colab": {
          "base_uri": "https://localhost:8080/",
          "height": 757
        },
        "id": "gTkmplf1Xmsl",
        "outputId": "e229ff13-14d4-4540-a9bd-bd38d251fce7"
      },
      "source": [
        "dot_data = tree.export_graphviz(clf\n",
        "                                ,feature_names=wines.feature_names\n",
        "                                ,class_names=['琴酒','雪莉','贝尔摩德']\n",
        "                                ,filled=True\n",
        "                                ,rounded=True)\n",
        "graphviz.Source(dot_data)"
      ],
      "execution_count": 15,
      "outputs": [
        {
          "output_type": "execute_result",
          "data": {
            "text/plain": [
              "<graphviz.files.Source at 0x7f428eecb780>"
            ],
            "image/svg+xml": "<?xml version=\"1.0\" encoding=\"UTF-8\" standalone=\"no\"?>\n<!DOCTYPE svg PUBLIC \"-//W3C//DTD SVG 1.1//EN\"\n \"http://www.w3.org/Graphics/SVG/1.1/DTD/svg11.dtd\">\n<!-- Generated by graphviz version 2.40.1 (20161225.0304)\n -->\n<!-- Title: Tree Pages: 1 -->\n<svg width=\"618pt\" height=\"552pt\"\n viewBox=\"0.00 0.00 618.00 552.00\" xmlns=\"http://www.w3.org/2000/svg\" xmlns:xlink=\"http://www.w3.org/1999/xlink\">\n<g id=\"graph0\" class=\"graph\" transform=\"scale(1 1) rotate(0) translate(4 548)\">\n<title>Tree</title>\n<polygon fill=\"#ffffff\" stroke=\"transparent\" points=\"-4,4 -4,-548 614,-548 614,4 -4,4\"/>\n<!-- 0 -->\n<g id=\"node1\" class=\"node\">\n<title>0</title>\n<path fill=\"#ebfcf2\" stroke=\"#000000\" d=\"M336.5,-544C336.5,-544 198.5,-544 198.5,-544 192.5,-544 186.5,-538 186.5,-532 186.5,-532 186.5,-473 186.5,-473 186.5,-467 192.5,-461 198.5,-461 198.5,-461 336.5,-461 336.5,-461 342.5,-461 348.5,-467 348.5,-473 348.5,-473 348.5,-532 348.5,-532 348.5,-538 342.5,-544 336.5,-544\"/>\n<text text-anchor=\"middle\" x=\"267.5\" y=\"-528.8\" font-family=\"Helvetica,sans-Serif\" font-size=\"14.00\" fill=\"#000000\">color_intensity &lt;= 3.46</text>\n<text text-anchor=\"middle\" x=\"267.5\" y=\"-513.8\" font-family=\"Helvetica,sans-Serif\" font-size=\"14.00\" fill=\"#000000\">gini = 0.662</text>\n<text text-anchor=\"middle\" x=\"267.5\" y=\"-498.8\" font-family=\"Helvetica,sans-Serif\" font-size=\"14.00\" fill=\"#000000\">samples = 142</text>\n<text text-anchor=\"middle\" x=\"267.5\" y=\"-483.8\" font-family=\"Helvetica,sans-Serif\" font-size=\"14.00\" fill=\"#000000\">value = [45, 55, 42]</text>\n<text text-anchor=\"middle\" x=\"267.5\" y=\"-468.8\" font-family=\"Helvetica,sans-Serif\" font-size=\"14.00\" fill=\"#000000\">class = 雪莉</text>\n</g>\n<!-- 1 -->\n<g id=\"node2\" class=\"node\">\n<title>1</title>\n<path fill=\"#39e581\" stroke=\"#000000\" d=\"M244,-417.5C244,-417.5 145,-417.5 145,-417.5 139,-417.5 133,-411.5 133,-405.5 133,-405.5 133,-361.5 133,-361.5 133,-355.5 139,-349.5 145,-349.5 145,-349.5 244,-349.5 244,-349.5 250,-349.5 256,-355.5 256,-361.5 256,-361.5 256,-405.5 256,-405.5 256,-411.5 250,-417.5 244,-417.5\"/>\n<text text-anchor=\"middle\" x=\"194.5\" y=\"-402.3\" font-family=\"Helvetica,sans-Serif\" font-size=\"14.00\" fill=\"#000000\">gini = 0.0</text>\n<text text-anchor=\"middle\" x=\"194.5\" y=\"-387.3\" font-family=\"Helvetica,sans-Serif\" font-size=\"14.00\" fill=\"#000000\">samples = 46</text>\n<text text-anchor=\"middle\" x=\"194.5\" y=\"-372.3\" font-family=\"Helvetica,sans-Serif\" font-size=\"14.00\" fill=\"#000000\">value = [0, 46, 0]</text>\n<text text-anchor=\"middle\" x=\"194.5\" y=\"-357.3\" font-family=\"Helvetica,sans-Serif\" font-size=\"14.00\" fill=\"#000000\">class = 雪莉</text>\n</g>\n<!-- 0&#45;&gt;1 -->\n<g id=\"edge1\" class=\"edge\">\n<title>0&#45;&gt;1</title>\n<path fill=\"none\" stroke=\"#000000\" d=\"M241.9681,-460.8796C235.1552,-449.7735 227.7802,-437.7513 220.9206,-426.5691\"/>\n<polygon fill=\"#000000\" stroke=\"#000000\" points=\"223.7628,-424.5087 215.5503,-417.8149 217.796,-428.1691 223.7628,-424.5087\"/>\n<text text-anchor=\"middle\" x=\"209.7256\" y=\"-438.4269\" font-family=\"Helvetica,sans-Serif\" font-size=\"14.00\" fill=\"#000000\">True</text>\n</g>\n<!-- 2 -->\n<g id=\"node3\" class=\"node\">\n<title>2</title>\n<path fill=\"#fef8f4\" stroke=\"#000000\" d=\"M397,-425C397,-425 286,-425 286,-425 280,-425 274,-419 274,-413 274,-413 274,-354 274,-354 274,-348 280,-342 286,-342 286,-342 397,-342 397,-342 403,-342 409,-348 409,-354 409,-354 409,-413 409,-413 409,-419 403,-425 397,-425\"/>\n<text text-anchor=\"middle\" x=\"341.5\" y=\"-409.8\" font-family=\"Helvetica,sans-Serif\" font-size=\"14.00\" fill=\"#000000\">flavanoids &lt;= 2.11</text>\n<text text-anchor=\"middle\" x=\"341.5\" y=\"-394.8\" font-family=\"Helvetica,sans-Serif\" font-size=\"14.00\" fill=\"#000000\">gini = 0.58</text>\n<text text-anchor=\"middle\" x=\"341.5\" y=\"-379.8\" font-family=\"Helvetica,sans-Serif\" font-size=\"14.00\" fill=\"#000000\">samples = 96</text>\n<text text-anchor=\"middle\" x=\"341.5\" y=\"-364.8\" font-family=\"Helvetica,sans-Serif\" font-size=\"14.00\" fill=\"#000000\">value = [45, 9, 42]</text>\n<text text-anchor=\"middle\" x=\"341.5\" y=\"-349.8\" font-family=\"Helvetica,sans-Serif\" font-size=\"14.00\" fill=\"#000000\">class = 琴酒</text>\n</g>\n<!-- 0&#45;&gt;2 -->\n<g id=\"edge2\" class=\"edge\">\n<title>0&#45;&gt;2</title>\n<path fill=\"none\" stroke=\"#000000\" d=\"M293.3816,-460.8796C298.8142,-452.1434 304.5992,-442.8404 310.2053,-433.8253\"/>\n<polygon fill=\"#000000\" stroke=\"#000000\" points=\"313.1993,-435.6383 315.5079,-425.2981 307.2549,-431.9418 313.1993,-435.6383\"/>\n<text text-anchor=\"middle\" x=\"321.1847\" y=\"-445.945\" font-family=\"Helvetica,sans-Serif\" font-size=\"14.00\" fill=\"#000000\">False</text>\n</g>\n<!-- 3 -->\n<g id=\"node4\" class=\"node\">\n<title>3</title>\n<path fill=\"#965ae9\" stroke=\"#000000\" d=\"M318,-306C318,-306 219,-306 219,-306 213,-306 207,-300 207,-294 207,-294 207,-235 207,-235 207,-229 213,-223 219,-223 219,-223 318,-223 318,-223 324,-223 330,-229 330,-235 330,-235 330,-294 330,-294 330,-300 324,-306 318,-306\"/>\n<text text-anchor=\"middle\" x=\"268.5\" y=\"-290.8\" font-family=\"Helvetica,sans-Serif\" font-size=\"14.00\" fill=\"#000000\">hue &lt;= 0.97</text>\n<text text-anchor=\"middle\" x=\"268.5\" y=\"-275.8\" font-family=\"Helvetica,sans-Serif\" font-size=\"14.00\" fill=\"#000000\">gini = 0.245</text>\n<text text-anchor=\"middle\" x=\"268.5\" y=\"-260.8\" font-family=\"Helvetica,sans-Serif\" font-size=\"14.00\" fill=\"#000000\">samples = 49</text>\n<text text-anchor=\"middle\" x=\"268.5\" y=\"-245.8\" font-family=\"Helvetica,sans-Serif\" font-size=\"14.00\" fill=\"#000000\">value = [0, 7, 42]</text>\n<text text-anchor=\"middle\" x=\"268.5\" y=\"-230.8\" font-family=\"Helvetica,sans-Serif\" font-size=\"14.00\" fill=\"#000000\">class = 贝尔摩德</text>\n</g>\n<!-- 2&#45;&gt;3 -->\n<g id=\"edge3\" class=\"edge\">\n<title>2&#45;&gt;3</title>\n<path fill=\"none\" stroke=\"#000000\" d=\"M315.9681,-341.8796C310.609,-333.1434 304.9021,-323.8404 299.3718,-314.8253\"/>\n<polygon fill=\"#000000\" stroke=\"#000000\" points=\"302.3533,-312.9919 294.1408,-306.2981 296.3865,-316.6522 302.3533,-312.9919\"/>\n</g>\n<!-- 8 -->\n<g id=\"node9\" class=\"node\">\n<title>8</title>\n<path fill=\"#e68742\" stroke=\"#000000\" d=\"M468.5,-306C468.5,-306 360.5,-306 360.5,-306 354.5,-306 348.5,-300 348.5,-294 348.5,-294 348.5,-235 348.5,-235 348.5,-229 354.5,-223 360.5,-223 360.5,-223 468.5,-223 468.5,-223 474.5,-223 480.5,-229 480.5,-235 480.5,-235 480.5,-294 480.5,-294 480.5,-300 474.5,-306 468.5,-306\"/>\n<text text-anchor=\"middle\" x=\"414.5\" y=\"-290.8\" font-family=\"Helvetica,sans-Serif\" font-size=\"14.00\" fill=\"#000000\">alcohol &lt;= 12.785</text>\n<text text-anchor=\"middle\" x=\"414.5\" y=\"-275.8\" font-family=\"Helvetica,sans-Serif\" font-size=\"14.00\" fill=\"#000000\">gini = 0.081</text>\n<text text-anchor=\"middle\" x=\"414.5\" y=\"-260.8\" font-family=\"Helvetica,sans-Serif\" font-size=\"14.00\" fill=\"#000000\">samples = 47</text>\n<text text-anchor=\"middle\" x=\"414.5\" y=\"-245.8\" font-family=\"Helvetica,sans-Serif\" font-size=\"14.00\" fill=\"#000000\">value = [45, 2, 0]</text>\n<text text-anchor=\"middle\" x=\"414.5\" y=\"-230.8\" font-family=\"Helvetica,sans-Serif\" font-size=\"14.00\" fill=\"#000000\">class = 琴酒</text>\n</g>\n<!-- 2&#45;&gt;8 -->\n<g id=\"edge8\" class=\"edge\">\n<title>2&#45;&gt;8</title>\n<path fill=\"none\" stroke=\"#000000\" d=\"M367.0319,-341.8796C372.391,-333.1434 378.0979,-323.8404 383.6282,-314.8253\"/>\n<polygon fill=\"#000000\" stroke=\"#000000\" points=\"386.6135,-316.6522 388.8592,-306.2981 380.6467,-312.9919 386.6135,-316.6522\"/>\n</g>\n<!-- 4 -->\n<g id=\"node5\" class=\"node\">\n<title>4</title>\n<path fill=\"#843ee6\" stroke=\"#000000\" d=\"M185,-187C185,-187 74,-187 74,-187 68,-187 62,-181 62,-175 62,-175 62,-116 62,-116 62,-110 68,-104 74,-104 74,-104 185,-104 185,-104 191,-104 197,-110 197,-116 197,-116 197,-175 197,-175 197,-181 191,-187 185,-187\"/>\n<text text-anchor=\"middle\" x=\"129.5\" y=\"-171.8\" font-family=\"Helvetica,sans-Serif\" font-size=\"14.00\" fill=\"#000000\">flavanoids &lt;= 1.58</text>\n<text text-anchor=\"middle\" x=\"129.5\" y=\"-156.8\" font-family=\"Helvetica,sans-Serif\" font-size=\"14.00\" fill=\"#000000\">gini = 0.045</text>\n<text text-anchor=\"middle\" x=\"129.5\" y=\"-141.8\" font-family=\"Helvetica,sans-Serif\" font-size=\"14.00\" fill=\"#000000\">samples = 43</text>\n<text text-anchor=\"middle\" x=\"129.5\" y=\"-126.8\" font-family=\"Helvetica,sans-Serif\" font-size=\"14.00\" fill=\"#000000\">value = [0, 1, 42]</text>\n<text text-anchor=\"middle\" x=\"129.5\" y=\"-111.8\" font-family=\"Helvetica,sans-Serif\" font-size=\"14.00\" fill=\"#000000\">class = 贝尔摩德</text>\n</g>\n<!-- 3&#45;&gt;4 -->\n<g id=\"edge4\" class=\"edge\">\n<title>3&#45;&gt;4</title>\n<path fill=\"none\" stroke=\"#000000\" d=\"M219.8845,-222.8796C208.9438,-213.513 197.2418,-203.4948 186.0092,-193.8784\"/>\n<polygon fill=\"#000000\" stroke=\"#000000\" points=\"188.1956,-191.1428 178.323,-187.2981 183.6432,-196.4603 188.1956,-191.1428\"/>\n</g>\n<!-- 7 -->\n<g id=\"node8\" class=\"node\">\n<title>7</title>\n<path fill=\"#39e581\" stroke=\"#000000\" d=\"M318,-179.5C318,-179.5 227,-179.5 227,-179.5 221,-179.5 215,-173.5 215,-167.5 215,-167.5 215,-123.5 215,-123.5 215,-117.5 221,-111.5 227,-111.5 227,-111.5 318,-111.5 318,-111.5 324,-111.5 330,-117.5 330,-123.5 330,-123.5 330,-167.5 330,-167.5 330,-173.5 324,-179.5 318,-179.5\"/>\n<text text-anchor=\"middle\" x=\"272.5\" y=\"-164.3\" font-family=\"Helvetica,sans-Serif\" font-size=\"14.00\" fill=\"#000000\">gini = 0.0</text>\n<text text-anchor=\"middle\" x=\"272.5\" y=\"-149.3\" font-family=\"Helvetica,sans-Serif\" font-size=\"14.00\" fill=\"#000000\">samples = 6</text>\n<text text-anchor=\"middle\" x=\"272.5\" y=\"-134.3\" font-family=\"Helvetica,sans-Serif\" font-size=\"14.00\" fill=\"#000000\">value = [0, 6, 0]</text>\n<text text-anchor=\"middle\" x=\"272.5\" y=\"-119.3\" font-family=\"Helvetica,sans-Serif\" font-size=\"14.00\" fill=\"#000000\">class = 雪莉</text>\n</g>\n<!-- 3&#45;&gt;7 -->\n<g id=\"edge7\" class=\"edge\">\n<title>3&#45;&gt;7</title>\n<path fill=\"none\" stroke=\"#000000\" d=\"M269.899,-222.8796C270.2575,-212.2134 270.6445,-200.7021 271.0075,-189.9015\"/>\n<polygon fill=\"#000000\" stroke=\"#000000\" points=\"274.5085,-189.9269 271.3466,-179.8149 267.5125,-189.6917 274.5085,-189.9269\"/>\n</g>\n<!-- 5 -->\n<g id=\"node6\" class=\"node\">\n<title>5</title>\n<path fill=\"#8139e5\" stroke=\"#000000\" d=\"M111,-68C111,-68 12,-68 12,-68 6,-68 0,-62 0,-56 0,-56 0,-12 0,-12 0,-6 6,0 12,0 12,0 111,0 111,0 117,0 123,-6 123,-12 123,-12 123,-56 123,-56 123,-62 117,-68 111,-68\"/>\n<text text-anchor=\"middle\" x=\"61.5\" y=\"-52.8\" font-family=\"Helvetica,sans-Serif\" font-size=\"14.00\" fill=\"#000000\">gini = 0.0</text>\n<text text-anchor=\"middle\" x=\"61.5\" y=\"-37.8\" font-family=\"Helvetica,sans-Serif\" font-size=\"14.00\" fill=\"#000000\">samples = 42</text>\n<text text-anchor=\"middle\" x=\"61.5\" y=\"-22.8\" font-family=\"Helvetica,sans-Serif\" font-size=\"14.00\" fill=\"#000000\">value = [0, 0, 42]</text>\n<text text-anchor=\"middle\" x=\"61.5\" y=\"-7.8\" font-family=\"Helvetica,sans-Serif\" font-size=\"14.00\" fill=\"#000000\">class = 贝尔摩德</text>\n</g>\n<!-- 4&#45;&gt;5 -->\n<g id=\"edge5\" class=\"edge\">\n<title>4&#45;&gt;5</title>\n<path fill=\"none\" stroke=\"#000000\" d=\"M104.1793,-103.9815C98.7984,-95.1585 93.1068,-85.8258 87.6941,-76.9506\"/>\n<polygon fill=\"#000000\" stroke=\"#000000\" points=\"90.5912,-74.9789 82.3962,-68.2637 84.6149,-78.6236 90.5912,-74.9789\"/>\n</g>\n<!-- 6 -->\n<g id=\"node7\" class=\"node\">\n<title>6</title>\n<path fill=\"#39e581\" stroke=\"#000000\" d=\"M244,-68C244,-68 153,-68 153,-68 147,-68 141,-62 141,-56 141,-56 141,-12 141,-12 141,-6 147,0 153,0 153,0 244,0 244,0 250,0 256,-6 256,-12 256,-12 256,-56 256,-56 256,-62 250,-68 244,-68\"/>\n<text text-anchor=\"middle\" x=\"198.5\" y=\"-52.8\" font-family=\"Helvetica,sans-Serif\" font-size=\"14.00\" fill=\"#000000\">gini = 0.0</text>\n<text text-anchor=\"middle\" x=\"198.5\" y=\"-37.8\" font-family=\"Helvetica,sans-Serif\" font-size=\"14.00\" fill=\"#000000\">samples = 1</text>\n<text text-anchor=\"middle\" x=\"198.5\" y=\"-22.8\" font-family=\"Helvetica,sans-Serif\" font-size=\"14.00\" fill=\"#000000\">value = [0, 1, 0]</text>\n<text text-anchor=\"middle\" x=\"198.5\" y=\"-7.8\" font-family=\"Helvetica,sans-Serif\" font-size=\"14.00\" fill=\"#000000\">class = 雪莉</text>\n</g>\n<!-- 4&#45;&gt;6 -->\n<g id=\"edge6\" class=\"edge\">\n<title>4&#45;&gt;6</title>\n<path fill=\"none\" stroke=\"#000000\" d=\"M155.1931,-103.9815C160.6531,-95.1585 166.4284,-85.8258 171.9207,-76.9506\"/>\n<polygon fill=\"#000000\" stroke=\"#000000\" points=\"175.0104,-78.609 177.2965,-68.2637 169.058,-74.9254 175.0104,-78.609\"/>\n</g>\n<!-- 9 -->\n<g id=\"node10\" class=\"node\">\n<title>9</title>\n<path fill=\"#39e581\" stroke=\"#000000\" d=\"M457,-179.5C457,-179.5 366,-179.5 366,-179.5 360,-179.5 354,-173.5 354,-167.5 354,-167.5 354,-123.5 354,-123.5 354,-117.5 360,-111.5 366,-111.5 366,-111.5 457,-111.5 457,-111.5 463,-111.5 469,-117.5 469,-123.5 469,-123.5 469,-167.5 469,-167.5 469,-173.5 463,-179.5 457,-179.5\"/>\n<text text-anchor=\"middle\" x=\"411.5\" y=\"-164.3\" font-family=\"Helvetica,sans-Serif\" font-size=\"14.00\" fill=\"#000000\">gini = 0.0</text>\n<text text-anchor=\"middle\" x=\"411.5\" y=\"-149.3\" font-family=\"Helvetica,sans-Serif\" font-size=\"14.00\" fill=\"#000000\">samples = 2</text>\n<text text-anchor=\"middle\" x=\"411.5\" y=\"-134.3\" font-family=\"Helvetica,sans-Serif\" font-size=\"14.00\" fill=\"#000000\">value = [0, 2, 0]</text>\n<text text-anchor=\"middle\" x=\"411.5\" y=\"-119.3\" font-family=\"Helvetica,sans-Serif\" font-size=\"14.00\" fill=\"#000000\">class = 雪莉</text>\n</g>\n<!-- 8&#45;&gt;9 -->\n<g id=\"edge9\" class=\"edge\">\n<title>8&#45;&gt;9</title>\n<path fill=\"none\" stroke=\"#000000\" d=\"M413.4507,-222.8796C413.1818,-212.2134 412.8916,-200.7021 412.6194,-189.9015\"/>\n<polygon fill=\"#000000\" stroke=\"#000000\" points=\"416.1161,-189.7235 412.3651,-179.8149 409.1183,-189.9 416.1161,-189.7235\"/>\n</g>\n<!-- 10 -->\n<g id=\"node11\" class=\"node\">\n<title>10</title>\n<path fill=\"#e58139\" stroke=\"#000000\" d=\"M598,-179.5C598,-179.5 499,-179.5 499,-179.5 493,-179.5 487,-173.5 487,-167.5 487,-167.5 487,-123.5 487,-123.5 487,-117.5 493,-111.5 499,-111.5 499,-111.5 598,-111.5 598,-111.5 604,-111.5 610,-117.5 610,-123.5 610,-123.5 610,-167.5 610,-167.5 610,-173.5 604,-179.5 598,-179.5\"/>\n<text text-anchor=\"middle\" x=\"548.5\" y=\"-164.3\" font-family=\"Helvetica,sans-Serif\" font-size=\"14.00\" fill=\"#000000\">gini = 0.0</text>\n<text text-anchor=\"middle\" x=\"548.5\" y=\"-149.3\" font-family=\"Helvetica,sans-Serif\" font-size=\"14.00\" fill=\"#000000\">samples = 45</text>\n<text text-anchor=\"middle\" x=\"548.5\" y=\"-134.3\" font-family=\"Helvetica,sans-Serif\" font-size=\"14.00\" fill=\"#000000\">value = [45, 0, 0]</text>\n<text text-anchor=\"middle\" x=\"548.5\" y=\"-119.3\" font-family=\"Helvetica,sans-Serif\" font-size=\"14.00\" fill=\"#000000\">class = 琴酒</text>\n</g>\n<!-- 8&#45;&gt;10 -->\n<g id=\"edge10\" class=\"edge\">\n<title>8&#45;&gt;10</title>\n<path fill=\"none\" stroke=\"#000000\" d=\"M461.3667,-222.8796C474.6156,-211.1138 489.0224,-198.3197 502.2356,-186.5855\"/>\n<polygon fill=\"#000000\" stroke=\"#000000\" points=\"504.7065,-189.0722 509.8597,-179.8149 500.0584,-183.8381 504.7065,-189.0722\"/>\n</g>\n</g>\n</svg>\n"
          },
          "metadata": {
            "tags": []
          },
          "execution_count": 15
        }
      ]
    },
    {
      "cell_type": "code",
      "metadata": {
        "id": "oU--8cp8YdGK"
      },
      "source": [
        ""
      ],
      "execution_count": 15,
      "outputs": []
    }
  ]
}