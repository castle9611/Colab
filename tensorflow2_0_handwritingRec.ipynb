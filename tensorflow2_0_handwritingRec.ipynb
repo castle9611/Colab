{
  "nbformat": 4,
  "nbformat_minor": 0,
  "metadata": {
    "kernelspec": {
      "display_name": "tensor2",
      "language": "python",
      "name": "tensor2"
    },
    "language_info": {
      "codemirror_mode": {
        "name": "ipython",
        "version": 3
      },
      "file_extension": ".py",
      "mimetype": "text/x-python",
      "name": "python",
      "nbconvert_exporter": "python",
      "pygments_lexer": "ipython3",
      "version": "3.6.12"
    },
    "colab": {
      "name": "tensorflow2.0_handwritingRec.ipynb",
      "provenance": [],
      "include_colab_link": true
    }
  },
  "cells": [
    {
      "cell_type": "markdown",
      "metadata": {
        "id": "view-in-github",
        "colab_type": "text"
      },
      "source": [
        "<a href=\"https://colab.research.google.com/github/castle9611/Colab/blob/main/tensorflow2_0_handwritingRec.ipynb\" target=\"_parent\"><img src=\"https://colab.research.google.com/assets/colab-badge.svg\" alt=\"Open In Colab\"/></a>"
      ]
    },
    {
      "cell_type": "code",
      "metadata": {
        "id": "2JrkliHnD24I"
      },
      "source": [
        "import tensorflow as tf\n",
        "from tensorflow import keras\n",
        "from tensorflow.keras import layers, datasets, Sequential, optimizers, metrics"
      ],
      "execution_count": 1,
      "outputs": []
    },
    {
      "cell_type": "code",
      "metadata": {
        "id": "loEakSdMD24L"
      },
      "source": [
        "from tensorflow.python.framework import ops\n",
        "from tensorflow.python.ops import math_ops\n",
        "from tensorflow.python.training import training_ops\n",
        "from tensorflow.python.training import optimizer"
      ],
      "execution_count": 2,
      "outputs": []
    },
    {
      "cell_type": "code",
      "metadata": {
        "id": "1uK-WthlJtSd"
      },
      "source": [
        "import matplotlib.pyplot as plt\n",
        "import numpy as np\n",
        "import matplotlib as mpl"
      ],
      "execution_count": 3,
      "outputs": []
    },
    {
      "cell_type": "code",
      "metadata": {
        "colab": {
          "base_uri": "https://localhost:8080/"
        },
        "id": "lYHK9ELSLnzF",
        "outputId": "f6e2c905-65cf-4cd8-f95a-b061d7b876d8"
      },
      "source": [
        "!gdown --id 1fsKERl26TNTFIY25PhReoCujxwJvfyHn\n",
        "zhfont = mpl.font_manager.FontProperties(fname='SimHei .ttf')"
      ],
      "execution_count": 4,
      "outputs": [
        {
          "output_type": "stream",
          "text": [
            "Downloading...\n",
            "From: https://drive.google.com/uc?id=1fsKERl26TNTFIY25PhReoCujxwJvfyHn\n",
            "To: /content/SimHei .ttf\n",
            "\r0.00B [00:00, ?B/s]\r10.1MB [00:00, 159MB/s]\n"
          ],
          "name": "stdout"
        }
      ]
    },
    {
      "cell_type": "code",
      "metadata": {
        "id": "Ue9l6h7zD24N"
      },
      "source": [
        "image_size = 28\n",
        "labels_size = 10\n",
        "hidden_size = 200\n",
        "learning_rate = 0.05\n",
        "steps_number = 1200\n",
        "batch_size = 100\n",
        "epochs = 10"
      ],
      "execution_count": 5,
      "outputs": []
    },
    {
      "cell_type": "code",
      "metadata": {
        "id": "bum5OoW1D24N"
      },
      "source": [
        "# defun zibianliang\n",
        "training_data = tf.float32, [None, image_size*image_size]"
      ],
      "execution_count": 6,
      "outputs": []
    },
    {
      "cell_type": "code",
      "metadata": {
        "colab": {
          "base_uri": "https://localhost:8080/"
        },
        "id": "16J2ZPGuD24N",
        "outputId": "18e3f6a8-412d-45d2-9f66-ab8dbdcd7c3f"
      },
      "source": [
        "training_data"
      ],
      "execution_count": 7,
      "outputs": [
        {
          "output_type": "execute_result",
          "data": {
            "text/plain": [
              "(tf.float32, [None, 784])"
            ]
          },
          "metadata": {
            "tags": []
          },
          "execution_count": 7
        }
      ]
    },
    {
      "cell_type": "code",
      "metadata": {
        "id": "lwMxw2goD24N"
      },
      "source": [
        "labels = tf.float32, [None, labels_size]"
      ],
      "execution_count": 8,
      "outputs": []
    },
    {
      "cell_type": "code",
      "metadata": {
        "id": "lcANq_62D24N"
      },
      "source": [
        "WIH = tf.Variable(2)"
      ],
      "execution_count": 9,
      "outputs": []
    },
    {
      "cell_type": "code",
      "metadata": {
        "colab": {
          "base_uri": "https://localhost:8080/"
        },
        "id": "pedPVTbKD24O",
        "outputId": "6e1cc441-05a2-4e58-a29f-8fe746ebc8cc"
      },
      "source": [
        "tf.truncatediv"
      ],
      "execution_count": 10,
      "outputs": [
        {
          "output_type": "execute_result",
          "data": {
            "text/plain": [
              "<function tensorflow.python.ops.gen_math_ops.truncate_div>"
            ]
          },
          "metadata": {
            "tags": []
          },
          "execution_count": 10
        }
      ]
    },
    {
      "cell_type": "code",
      "metadata": {
        "id": "9ARGy395D24O"
      },
      "source": [
        "\n"
      ],
      "execution_count": 10,
      "outputs": []
    },
    {
      "cell_type": "code",
      "metadata": {
        "id": "o2BjIV6RD24O"
      },
      "source": [
        "# 数据预处理\n",
        "def train_preprocess(x_train, y_train):\n",
        "    x_train = tf.cast(x = x_train, dtype = tf.float32) / 255.\n",
        "    y_train = tf.cast(x = y_train, dtype = tf.int32)\n",
        "    y_train = tf.one_hot(indices = y_train, depth = 10)\n",
        "    return x_train, y_train\n",
        "\n",
        "def test_preprocess(x_test, y_test):\n",
        "    x_test = tf.cast(x = x_test, dtype = tf.float32) / 255.\n",
        "    y_test = tf.cast(x = y_test, dtype = tf.int32)\n",
        "\n",
        "    return x_test, y_test"
      ],
      "execution_count": 11,
      "outputs": []
    },
    {
      "cell_type": "code",
      "metadata": {
        "id": "n5aI9B4mD24O"
      },
      "source": [
        "(x_train, y_train), (x_test, y_test) = tf.keras.datasets.mnist.load_data()\n",
        "mnist = tf.keras.datasets.mnist.load_data()"
      ],
      "execution_count": 12,
      "outputs": []
    },
    {
      "cell_type": "code",
      "metadata": {
        "colab": {
          "base_uri": "https://localhost:8080/"
        },
        "id": "YQGEL4TeD24O",
        "outputId": "9a1bcf43-6ca8-45ea-eb82-fe6d64ab49c6"
      },
      "source": [
        "x_train.shape,y_train.shape,x_test.shape,y_test.shape"
      ],
      "execution_count": 13,
      "outputs": [
        {
          "output_type": "execute_result",
          "data": {
            "text/plain": [
              "((60000, 28, 28), (60000,), (10000, 28, 28), (10000,))"
            ]
          },
          "metadata": {
            "tags": []
          },
          "execution_count": 13
        }
      ]
    },
    {
      "cell_type": "code",
      "metadata": {
        "colab": {
          "base_uri": "https://localhost:8080/"
        },
        "id": "4fU4WuyDD24O",
        "outputId": "1748e5b0-e4c4-42c5-9bf4-860fa48f4c26"
      },
      "source": [
        "x_train[1],y_train"
      ],
      "execution_count": 14,
      "outputs": [
        {
          "output_type": "execute_result",
          "data": {
            "text/plain": [
              "(array([[  0,   0,   0,   0,   0,   0,   0,   0,   0,   0,   0,   0,   0,\n",
              "           0,   0,   0,   0,   0,   0,   0,   0,   0,   0,   0,   0,   0,\n",
              "           0,   0],\n",
              "        [  0,   0,   0,   0,   0,   0,   0,   0,   0,   0,   0,   0,   0,\n",
              "           0,   0,   0,   0,   0,   0,   0,   0,   0,   0,   0,   0,   0,\n",
              "           0,   0],\n",
              "        [  0,   0,   0,   0,   0,   0,   0,   0,   0,   0,   0,   0,   0,\n",
              "           0,   0,   0,   0,   0,   0,   0,   0,   0,   0,   0,   0,   0,\n",
              "           0,   0],\n",
              "        [  0,   0,   0,   0,   0,   0,   0,   0,   0,   0,   0,   0,   0,\n",
              "           0,   0,   0,   0,   0,   0,   0,   0,   0,   0,   0,   0,   0,\n",
              "           0,   0],\n",
              "        [  0,   0,   0,   0,   0,   0,   0,   0,   0,   0,   0,   0,   0,\n",
              "           0,   0,  51, 159, 253, 159,  50,   0,   0,   0,   0,   0,   0,\n",
              "           0,   0],\n",
              "        [  0,   0,   0,   0,   0,   0,   0,   0,   0,   0,   0,   0,   0,\n",
              "           0,  48, 238, 252, 252, 252, 237,   0,   0,   0,   0,   0,   0,\n",
              "           0,   0],\n",
              "        [  0,   0,   0,   0,   0,   0,   0,   0,   0,   0,   0,   0,   0,\n",
              "          54, 227, 253, 252, 239, 233, 252,  57,   6,   0,   0,   0,   0,\n",
              "           0,   0],\n",
              "        [  0,   0,   0,   0,   0,   0,   0,   0,   0,   0,   0,  10,  60,\n",
              "         224, 252, 253, 252, 202,  84, 252, 253, 122,   0,   0,   0,   0,\n",
              "           0,   0],\n",
              "        [  0,   0,   0,   0,   0,   0,   0,   0,   0,   0,   0, 163, 252,\n",
              "         252, 252, 253, 252, 252,  96, 189, 253, 167,   0,   0,   0,   0,\n",
              "           0,   0],\n",
              "        [  0,   0,   0,   0,   0,   0,   0,   0,   0,   0,  51, 238, 253,\n",
              "         253, 190, 114, 253, 228,  47,  79, 255, 168,   0,   0,   0,   0,\n",
              "           0,   0],\n",
              "        [  0,   0,   0,   0,   0,   0,   0,   0,   0,  48, 238, 252, 252,\n",
              "         179,  12,  75, 121,  21,   0,   0, 253, 243,  50,   0,   0,   0,\n",
              "           0,   0],\n",
              "        [  0,   0,   0,   0,   0,   0,   0,   0,  38, 165, 253, 233, 208,\n",
              "          84,   0,   0,   0,   0,   0,   0, 253, 252, 165,   0,   0,   0,\n",
              "           0,   0],\n",
              "        [  0,   0,   0,   0,   0,   0,   0,   7, 178, 252, 240,  71,  19,\n",
              "          28,   0,   0,   0,   0,   0,   0, 253, 252, 195,   0,   0,   0,\n",
              "           0,   0],\n",
              "        [  0,   0,   0,   0,   0,   0,   0,  57, 252, 252,  63,   0,   0,\n",
              "           0,   0,   0,   0,   0,   0,   0, 253, 252, 195,   0,   0,   0,\n",
              "           0,   0],\n",
              "        [  0,   0,   0,   0,   0,   0,   0, 198, 253, 190,   0,   0,   0,\n",
              "           0,   0,   0,   0,   0,   0,   0, 255, 253, 196,   0,   0,   0,\n",
              "           0,   0],\n",
              "        [  0,   0,   0,   0,   0,   0,  76, 246, 252, 112,   0,   0,   0,\n",
              "           0,   0,   0,   0,   0,   0,   0, 253, 252, 148,   0,   0,   0,\n",
              "           0,   0],\n",
              "        [  0,   0,   0,   0,   0,   0,  85, 252, 230,  25,   0,   0,   0,\n",
              "           0,   0,   0,   0,   0,   7, 135, 253, 186,  12,   0,   0,   0,\n",
              "           0,   0],\n",
              "        [  0,   0,   0,   0,   0,   0,  85, 252, 223,   0,   0,   0,   0,\n",
              "           0,   0,   0,   0,   7, 131, 252, 225,  71,   0,   0,   0,   0,\n",
              "           0,   0],\n",
              "        [  0,   0,   0,   0,   0,   0,  85, 252, 145,   0,   0,   0,   0,\n",
              "           0,   0,   0,  48, 165, 252, 173,   0,   0,   0,   0,   0,   0,\n",
              "           0,   0],\n",
              "        [  0,   0,   0,   0,   0,   0,  86, 253, 225,   0,   0,   0,   0,\n",
              "           0,   0, 114, 238, 253, 162,   0,   0,   0,   0,   0,   0,   0,\n",
              "           0,   0],\n",
              "        [  0,   0,   0,   0,   0,   0,  85, 252, 249, 146,  48,  29,  85,\n",
              "         178, 225, 253, 223, 167,  56,   0,   0,   0,   0,   0,   0,   0,\n",
              "           0,   0],\n",
              "        [  0,   0,   0,   0,   0,   0,  85, 252, 252, 252, 229, 215, 252,\n",
              "         252, 252, 196, 130,   0,   0,   0,   0,   0,   0,   0,   0,   0,\n",
              "           0,   0],\n",
              "        [  0,   0,   0,   0,   0,   0,  28, 199, 252, 252, 253, 252, 252,\n",
              "         233, 145,   0,   0,   0,   0,   0,   0,   0,   0,   0,   0,   0,\n",
              "           0,   0],\n",
              "        [  0,   0,   0,   0,   0,   0,   0,  25, 128, 252, 253, 252, 141,\n",
              "          37,   0,   0,   0,   0,   0,   0,   0,   0,   0,   0,   0,   0,\n",
              "           0,   0],\n",
              "        [  0,   0,   0,   0,   0,   0,   0,   0,   0,   0,   0,   0,   0,\n",
              "           0,   0,   0,   0,   0,   0,   0,   0,   0,   0,   0,   0,   0,\n",
              "           0,   0],\n",
              "        [  0,   0,   0,   0,   0,   0,   0,   0,   0,   0,   0,   0,   0,\n",
              "           0,   0,   0,   0,   0,   0,   0,   0,   0,   0,   0,   0,   0,\n",
              "           0,   0],\n",
              "        [  0,   0,   0,   0,   0,   0,   0,   0,   0,   0,   0,   0,   0,\n",
              "           0,   0,   0,   0,   0,   0,   0,   0,   0,   0,   0,   0,   0,\n",
              "           0,   0],\n",
              "        [  0,   0,   0,   0,   0,   0,   0,   0,   0,   0,   0,   0,   0,\n",
              "           0,   0,   0,   0,   0,   0,   0,   0,   0,   0,   0,   0,   0,\n",
              "           0,   0]], dtype=uint8), array([5, 0, 4, ..., 5, 6, 8], dtype=uint8))"
            ]
          },
          "metadata": {
            "tags": []
          },
          "execution_count": 14
        }
      ]
    },
    {
      "cell_type": "code",
      "metadata": {
        "scrolled": false,
        "colab": {
          "base_uri": "https://localhost:8080/",
          "height": 280
        },
        "id": "SXN2GHWBD24O",
        "outputId": "34acded5-519b-4274-c076-25f0b91750f9"
      },
      "source": [
        "\n",
        "# 从训练集中随便取一个图像显示\n",
        "i = 3\n",
        "plt.imshow(np.reshape(x_train[i],(28,28)))\n",
        "plt.title('真实标签：'+str(y_train[i]),fontproperties=zhfont)\n",
        "plt.show()"
      ],
      "execution_count": 15,
      "outputs": [
        {
          "output_type": "display_data",
          "data": {
            "image/png": "[encoded data removed]",
            "text/plain": [
              "<Figure size 432x288 with 1 Axes>"
            ]
          },
          "metadata": {
            "tags": [],
            "needs_background": "light"
          }
        }
      ]
    },
    {
      "cell_type": "code",
      "metadata": {
        "scrolled": true,
        "colab": {
          "base_uri": "https://localhost:8080/",
          "height": 280
        },
        "id": "bay3rRjXD24O",
        "outputId": "be934362-967b-4ede-9d03-79027c335c56"
      },
      "source": [
        "i = 5\n",
        "plt.imshow(np.reshape(x_train[i],(28,28)))\n",
        "plt.title('真实标签：'+str(y_train[i]),fontproperties=zhfont)\n",
        "plt.show()"
      ],
      "execution_count": 16,
      "outputs": [
        {
          "output_type": "display_data",
          "data": {
            "image/png": "[encoded data removed]",
            "text/plain": [
              "<Figure size 432x288 with 1 Axes>"
            ]
          },
          "metadata": {
            "tags": [],
            "needs_background": "light"
          }
        }
      ]
    },
    {
      "cell_type": "code",
      "metadata": {
        "scrolled": true,
        "colab": {
          "base_uri": "https://localhost:8080/",
          "height": 280
        },
        "id": "jejLoBeND24P",
        "outputId": "72a102f8-9195-4cf0-a044-fcef9c3fbc51"
      },
      "source": [
        "i = 122\n",
        "plt.imshow(np.reshape(x_train[i],(28,28)))\n",
        "plt.title('真实标签：'+str(y_train[i]),fontproperties=zhfont)\n",
        "plt.show()"
      ],
      "execution_count": 17,
      "outputs": [
        {
          "output_type": "display_data",
          "data": {
            "image/png": "[encoded data removed]",
            "text/plain": [
              "<Figure size 432x288 with 1 Axes>"
            ]
          },
          "metadata": {
            "tags": [],
            "needs_background": "light"
          }
        }
      ]
    },
    {
      "cell_type": "code",
      "metadata": {
        "id": "w3rxoLm7D24P",
        "colab": {
          "base_uri": "https://localhost:8080/"
        },
        "outputId": "8ad7242f-3d05-4085-b69e-3a239bd5af4c"
      },
      "source": [
        "train_db = tf.data.Dataset.from_tensor_slices(tensors=(x_train, y_train))\n",
        "train_db = train_db.map(map_func=train_preprocess).shuffle(buffer_size=1000).batch(batch_size=128)\n",
        "\n",
        "test_db = tf.data.Dataset.from_tensor_slices(tensors=(x_test, y_test))\n",
        "test_db = test_db.map(map_func=test_preprocess).batch(batch_size=128)\n",
        "\n",
        "# 建立网络模型\n",
        "model = tf.keras.Sequential([\n",
        "    tf.keras.layers.Dense(units=512, activation=tf.nn.relu),\n",
        "    tf.keras.layers.Dense(units=256, activation=tf.nn.relu),\n",
        "    tf.keras.layers.Dense(units=128, activation=tf.nn.relu),\n",
        "    tf.keras.layers.Dense(units=32, activation=tf.nn.relu),\n",
        "    tf.keras.layers.Dense(units=10),\n",
        "\n",
        "])\n",
        "model.build(input_shape=[None, 28 * 28])\n",
        "model.summary()\n",
        "optimizer = tf.keras.optimizers.Adam(learning_rate = 1e-4)"
      ],
      "execution_count": 18,
      "outputs": [
        {
          "output_type": "stream",
          "text": [
            "Model: \"sequential\"\n",
            "_________________________________________________________________\n",
            "Layer (type)                 Output Shape              Param #   \n",
            "=================================================================\n",
            "dense (Dense)                (None, 512)               401920    \n",
            "_________________________________________________________________\n",
            "dense_1 (Dense)              (None, 256)               131328    \n",
            "_________________________________________________________________\n",
            "dense_2 (Dense)              (None, 128)               32896     \n",
            "_________________________________________________________________\n",
            "dense_3 (Dense)              (None, 32)                4128      \n",
            "_________________________________________________________________\n",
            "dense_4 (Dense)              (None, 10)                330       \n",
            "=================================================================\n",
            "Total params: 570,602\n",
            "Trainable params: 570,602\n",
            "Non-trainable params: 0\n",
            "_________________________________________________________________\n"
          ],
          "name": "stdout"
        }
      ]
    },
    {
      "cell_type": "code",
      "metadata": {
        "id": "xDkUY9pND24P"
      },
      "source": [
        ""
      ],
      "execution_count": 18,
      "outputs": []
    },
    {
      "cell_type": "code",
      "metadata": {
        "id": "5-5CsTwaD24P"
      },
      "source": [
        ""
      ],
      "execution_count": 18,
      "outputs": []
    },
    {
      "cell_type": "code",
      "metadata": {
        "id": "ecJDZ_97D24P",
        "colab": {
          "base_uri": "https://localhost:8080/"
        },
        "outputId": "e78fd3d9-c862-4873-f251-1a9fdb0bca89"
      },
      "source": [
        "import tensorflow as tf\n",
        "from tensorflow.keras import datasets, layers, optimizers, Sequential, metrics\n",
        "import numpy as np\n",
        "\n",
        "(train_x,train_y),(test_x,test_y) = datasets.mnist.load_data()\n",
        "train_x = tf.convert_to_tensor(train_x, dtype=tf.float32) / 255.\n",
        "train_y = train_y.astype(np.int64)\n",
        "train_dataset = tf.data.Dataset.from_tensor_slices((train_x,train_y))\n",
        "# batch_size = 100,数据集最多重复10次\n",
        "train_dataset = train_dataset.batch(100).repeat(10)\n",
        "\n",
        "# 用keras.Sequential构建一个模型，并从keras.optimizers实例化一个随机梯度下降优化器。\n",
        "model = tf.keras.Sequential([\n",
        "    layers.Reshape(target_shape = (28 * 28,), input_shape=(28, 28)),\n",
        "    layers.Dense(256, activation = tf.nn.relu),\n",
        "    layers.Dense(256, activation = tf.nn.relu),\n",
        "    layers.Dense(256, activation = tf.nn.relu),\n",
        "    layers.Dense(10)\n",
        "])\n",
        "\n",
        "model.summary()\n",
        "\n",
        "\n",
        "optimizer = optimizers.Adam(lr=1e-3)\n",
        "acc = metrics.Accuracy()\n",
        "\n",
        "# @tf.function\n",
        "# def compute_loss(logits,label):\n",
        "#     return tf.reduce_mean(tf.nn.sparse_softmax_cross_entropy_with_logits(logits=logits, labels = label))\n",
        "\n",
        "for step,(x,y) in enumerate(train_dataset):\n",
        "\n",
        "    \"\"\"\n",
        "    使用tf.GradientTape相对于网络的可训练变量手动计算损耗的梯度。GradientTape只是TensorFlow 2.0中执行梯度步骤的多种方法之一\n",
        "    \n",
        "    Tf.GradientTape：通过在上下文管理器中记录操作，针对给定变量手动计算损耗梯度。这是执行优化程序步骤的最灵活的方法，因为我们可以直接使用渐变，而无需预先定义的Keras模型或损失函数。\n",
        "    Model.train（）：Keras的内置函数，用于遍历数据集并在其上拟合Keras.Model。这通常是训练Keras模型的最佳选择，并带有进度条显示，验证拆分，多处理和生成器支持的选项。\n",
        "    Optimizer.minimize（）：通过给定的损失函数进行计算和微分，并执行一个步骤以通过梯度下降将其最小化。此方法易于实现，并且可以方便地应用于任何现有的计算图上，以进行有效的优化步骤。\n",
        "    \"\"\"\n",
        "    with tf.GradientTape() as tape:\n",
        "\n",
        "        # loss = compute_loss(logits=output, label=y)\n",
        "\n",
        "        output = model(x)  # [batch_size,28,28] => [batch_size,10]\n",
        "        y_onehot = tf.one_hot(y, depth=10) # [batch_size,1] => [batch_size,10]\n",
        "        loss = tf.square(output - y_onehot)\n",
        "        loss = tf.reduce_mean(loss)# [batch_size,10] => [batch_size,1]\n",
        "\n",
        "    # 更新准确率\n",
        "    acc.update_state(tf.argmax(output,axis = 1),y)\n",
        "\n",
        "    # 求梯度\n",
        "    grads = tape.gradient(loss, model.trainable_variables)\n",
        "    optimizer.apply_gradients(zip(grads, model.trainable_variables))\n",
        "\n",
        "\n",
        "    # 没200 步打印一次，并且重新统计准确率\n",
        "    if step % 200 == 0:\n",
        "        print(step, 'loss:', float(loss), 'acc:', acc.result().numpy())\n",
        "        acc.reset_states()"
      ],
      "execution_count": 19,
      "outputs": [
        {
          "output_type": "stream",
          "text": [
            "Model: \"sequential_1\"\n",
            "_________________________________________________________________\n",
            "Layer (type)                 Output Shape              Param #   \n",
            "=================================================================\n",
            "reshape (Reshape)            (None, 784)               0         \n",
            "_________________________________________________________________\n",
            "dense_5 (Dense)              (None, 256)               200960    \n",
            "_________________________________________________________________\n",
            "dense_6 (Dense)              (None, 256)               65792     \n",
            "_________________________________________________________________\n",
            "dense_7 (Dense)              (None, 256)               65792     \n",
            "_________________________________________________________________\n",
            "dense_8 (Dense)              (None, 10)                2570      \n",
            "=================================================================\n",
            "Total params: 335,114\n",
            "Trainable params: 335,114\n",
            "Non-trainable params: 0\n",
            "_________________________________________________________________\n",
            "0 loss: 0.14088720083236694 acc: 0.1\n",
            "200 loss: 0.01757950708270073 acc: 0.8942\n",
            "400 loss: 0.006631070282310247 acc: 0.95505\n",
            "600 loss: 0.005901294760406017 acc: 0.96365\n",
            "800 loss: 0.008289138786494732 acc: 0.97245\n",
            "1000 loss: 0.002313719829544425 acc: 0.9773\n",
            "1200 loss: 0.004731900058686733 acc: 0.97935\n",
            "1400 loss: 0.005283202510327101 acc: 0.98285\n",
            "1600 loss: 0.001422862522304058 acc: 0.9852\n",
            "1800 loss: 0.004432540852576494 acc: 0.98565\n",
            "2000 loss: 0.004209499340504408 acc: 0.9887\n",
            "2200 loss: 0.0007949440623633564 acc: 0.9901\n",
            "2400 loss: 0.0022390850353986025 acc: 0.98975\n",
            "2600 loss: 0.002513063605874777 acc: 0.9914\n",
            "2800 loss: 0.0007420539623126388 acc: 0.99275\n",
            "3000 loss: 0.0018581602489575744 acc: 0.99325\n",
            "3200 loss: 0.0021140051539987326 acc: 0.9944\n",
            "3400 loss: 0.00043913477566093206 acc: 0.9933\n",
            "3600 loss: 0.0017800494097173214 acc: 0.99355\n",
            "3800 loss: 0.0030428452882915735 acc: 0.9948\n",
            "4000 loss: 0.00029872320010326803 acc: 0.99405\n",
            "4200 loss: 0.001903256168588996 acc: 0.9943\n",
            "4400 loss: 0.0023461314849555492 acc: 0.9951\n",
            "4600 loss: 0.0008183475583791733 acc: 0.9938\n",
            "4800 loss: 0.0027678413316607475 acc: 0.99455\n",
            "5000 loss: 0.001608914346434176 acc: 0.996\n",
            "5200 loss: 0.001081182505004108 acc: 0.9962\n",
            "5400 loss: 0.0014490315224975348 acc: 0.9949\n",
            "5600 loss: 0.0015761158429086208 acc: 0.9969\n",
            "5800 loss: 0.00017691191169433296 acc: 0.9964\n"
          ],
          "name": "stdout"
        }
      ]
    },
    {
      "cell_type": "code",
      "metadata": {
        "id": "84l1q7BkD24P"
      },
      "source": [
        ""
      ],
      "execution_count": 19,
      "outputs": []
    }
  ]
}