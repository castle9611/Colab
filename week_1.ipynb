{
  "nbformat": 4,
  "nbformat_minor": 0,
  "metadata": {
    "colab": {
      "name": "week_1",
      "provenance": [],
      "collapsed_sections": [],
      "toc_visible": true,
      "authorship_tag": "ABX9TyNe+HzBfcjmrJAAaDd/nir9",
      "include_colab_link": true
    },
    "kernelspec": {
      "name": "python3",
      "display_name": "Python 3"
    }
  },
  "cells": [
    {
      "cell_type": "markdown",
      "metadata": {
        "id": "view-in-github",
        "colab_type": "text"
      },
      "source": [
        "<a href=\"https://colab.research.google.com/github/castle9611/Colab/blob/main/week_1.ipynb\" target=\"_parent\"><img src=\"https://colab.research.google.com/assets/colab-badge.svg\" alt=\"Open In Colab\"/></a>"
      ]
    },
    {
      "cell_type": "markdown",
      "metadata": {
        "id": "ODvX904RQhgq"
      },
      "source": [
        "#The first week"
      ]
    },
    {
      "cell_type": "markdown",
      "metadata": {
        "id": "fn3mu8NoZwwo"
      },
      "source": [
        "## Intro"
      ]
    },
    {
      "cell_type": "markdown",
      "metadata": {
        "id": "878sZaHsKfS8"
      },
      "source": [
        "#### 1 What is Machine Learning? \n",
        "\n",
        "Two definitions of Machine Learning are offered. Arthur Samuel described it as: \"the field of study that gives computers the ability to learn without being explicitly programmed.\" This is an older, informal definition.  \n",
        "在不用给出精确指令情况下，使计算机能够具备学习的能力  \n",
        "\n",
        "Tom Mitchell provides a more modern definition: \"A computer program is said to learn from experience E with respect to some class of tasks T and performance measure P, if its performance at tasks in T, as measured by P, improves with experience E.\"  \n",
        "一段程序，完成一些任务T习得经验E，进行性能测试P，如果在T上的性能P能通过E有所提高\n",
        "\n",
        "Example: playing checkers(跳棋).\n",
        " \n",
        "- E = the experience of playing many games of checkers\n",
        "\n",
        "- T = the task of playing checkers.\n",
        "\n",
        "- P = the probability that the program will win the next game.\n",
        "\n",
        "In general, any machine learning problem can be assigned to one of two broad classifications:\n",
        "\n",
        "Supervised learning and Unsupervised learning."
      ]
    },
    {
      "cell_type": "markdown",
      "metadata": {
        "id": "HIXIF8ufPl6E"
      },
      "source": [
        "#### 2 Supervised Learning  \n",
        "\n",
        "In supervised learning, we are given a data set and already know what our correct output should look like, having the idea that there is a relationship between the input and the output.  \n",
        "训练集中有已知输出\n",
        "\n",
        "Supervised learning problems are categorized into \"regression\" and \"classification\" problems（解决回归和分类）. In a regression problem, we are trying to predict results within a continuous output, meaning that we are trying to map input variables to some continuous function. In a classification problem, we are instead trying to predict results in a discrete output(可以用连续数据预测连续或离散输出). In other words, we are trying to map input variables into discrete categories. \n",
        "\n",
        "Example 1:\n",
        "\n",
        "Given data about the size of houses on the real estate market, try to predict their price. Price as a function of size is a continuous output, so this is a regression problem.（价格预测，连续型输出）\n",
        "\n",
        "We could turn this example into a classification problem by instead making our output about whether the house \"sells for more or less than the asking price.\" Here we are classifying the houses based on price into two discrete categories.（预测离散输出：高低）\n",
        "\n",
        "Example 2:\n",
        "\n",
        "(a) Regression - Given a picture of a person, we have to predict their age on the basis of the given picture\n",
        "\n",
        "(b) Classification - Given a patient with a tumor, we have to predict whether the tumor is malignant or benign. （预测肿瘤恶性还是良性）"
      ]
    },
    {
      "cell_type": "markdown",
      "metadata": {
        "id": "sNuD3MLFO94c"
      },
      "source": [
        "#### 3 Unsupervised Learning  \n",
        "\n",
        "Unsupervised learning allows us to approach problems with little or no idea what our results should look like. We can derive structure from data where we don't necessarily know the effect of the variables.\n",
        "\n",
        "We can derive this structure by clustering the data based on relationships among the variables in the data.\n",
        "\n",
        "With unsupervised learning there is no feedback based on the prediction results.\n",
        "\n",
        "Example:\n",
        "\n",
        "Clustering: Take a collection of 1,000,000 different genes, and find a way to automatically group these genes into groups that are somehow similar or related by different variables, such as lifespan, location, roles, and so on.\n",
        "\n",
        "Non-clustering: The \"Cocktail Party Algorithm\", allows you to find structure in a chaotic environment. (i.e. identifying individual voices and music from a mesh of sounds at a cocktail party)."
      ]
    },
    {
      "cell_type": "code",
      "metadata": {
        "id": "hzB8SFakKgEj"
      },
      "source": [
        ""
      ],
      "execution_count": null,
      "outputs": []
    }
  ]
}