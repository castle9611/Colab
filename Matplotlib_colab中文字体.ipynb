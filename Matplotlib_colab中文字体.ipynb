{
  "nbformat": 4,
  "nbformat_minor": 0,
  "metadata": {
    "colab": {
      "name": "Matplotlib_colab中文字体.ipynb",
      "provenance": [],
      "authorship_tag": "ABX9TyPyRzG4zTbugFm5tMV9qFHL",
      "include_colab_link": true
    },
    "kernelspec": {
      "name": "python3",
      "display_name": "Python 3"
    }
  },
  "cells": [
    {
      "cell_type": "markdown",
      "metadata": {
        "id": "view-in-github",
        "colab_type": "text"
      },
      "source": [
        "<a href=\"https://colab.research.google.com/github/castle9611/Colab/blob/main/Matplotlib_colab%E4%B8%AD%E6%96%87%E5%AD%97%E4%BD%93.ipynb\" target=\"_parent\"><img src=\"https://colab.research.google.com/assets/colab-badge.svg\" alt=\"Open In Colab\"/></a>"
      ]
    },
    {
      "cell_type": "code",
      "metadata": {
        "id": "He44Qn9COb1k"
      },
      "source": [
        "# !gdown --id 1fsKERl26TNTFIY25PhReoCujxwJvfyHn\n",
        "# import matplotlib as mpl\n",
        "# zhfont = mpl.font_manager.FontProperties(fname='SimHei .ttf')\n",
        " \n",
        "### 在使用的中文字符串前加u，并在后面附上中文字体名。如下：\n",
        "\n",
        "# plt.title(\"拍摄角度：0,5,10\",fontproperties=zhfont)\n",
        "# plt.xlabel(u\"实际接触角\",fontproperties=zhfont)\n",
        "# plt.legend(['0','5',u'10度'],loc='best',prop=zhfont)"
      ],
      "execution_count": null,
      "outputs": []
    },
    {
      "cell_type": "markdown",
      "metadata": {
        "id": "EK2WA5RiO0os"
      },
      "source": [
        "###实例"
      ]
    },
    {
      "cell_type": "code",
      "metadata": {
        "id": "G_-c7PLBO5Kt"
      },
      "source": [
        "!gdown --id 1fsKERl26TNTFIY25PhReoCujxwJvfyHn\n",
        "import matplotlib as mpl\n",
        "zhfont = mpl.font_manager.FontProperties(fname='SimHei .ttf')\n",
        "\n",
        "import numpy as np\n",
        "import matplotlib.pyplot as plt\n",
        "\n",
        "theta = range(0,91)\n",
        "alpha = range(0,46)\n",
        "contact_angle = np.zeros((91,46),dtype=np.float64)\n",
        "\n",
        "for j in alpha:\n",
        "  for i in theta:\n",
        "    pass\n",
        "    contact_angle[i][j] = np.arctan(np.cos(j*np.pi/180)*np.tan(i*np.pi/180))*180/np.pi-i\n",
        "\n",
        "plt.figure()\n",
        "\n",
        "plt.title(\"拍摄角度：0,5,10\",fontproperties=zhfont)\n",
        "plt.xlabel(u\"实际接触角\",fontproperties=zhfont)\n",
        "plt.ylabel(u\"角度误差\",fontproperties=zhfont)\n",
        "for i in range(0,11,5):\n",
        "  plt.plot(theta,contact_angle[:,i])\n",
        "  plt.legends=\"x\"\n",
        "plt.legend([u'0度',u'5度',u'10度'],loc='best',prop=zhfont)\n",
        "plt.grid()\n",
        "plt.show()\n"
      ],
      "execution_count": null,
      "outputs": []
    }
  ]
}